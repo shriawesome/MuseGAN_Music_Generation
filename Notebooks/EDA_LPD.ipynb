{
 "cells": [
  {
   "cell_type": "code",
   "execution_count": 1,
   "id": "c3c34984",
   "metadata": {},
   "outputs": [],
   "source": [
    "import pypianoroll as pl\n",
    "import numpy as np\n",
    "\n",
    "from pathlib import Path\n",
    "import os\n",
    "\n",
    "import matplotlib.pyplot as plt"
   ]
  },
  {
   "cell_type": "code",
   "execution_count": 44,
   "id": "8277568c",
   "metadata": {},
   "outputs": [
    {
     "data": {
      "text/plain": [
       "[StandardTrack(name='TOUCHINT', program=106, is_drum=False, pianoroll=array(shape=(11136, 128), dtype=uint8)),\n",
       " StandardTrack(name='TOUCHINT', program=28, is_drum=False, pianoroll=array(shape=(11136, 128), dtype=uint8)),\n",
       " StandardTrack(name='TOUCHINT', program=24, is_drum=True, pianoroll=array(shape=(11136, 128), dtype=uint8)),\n",
       " StandardTrack(name='TOUCHINT', program=75, is_drum=False, pianoroll=array(shape=(11136, 128), dtype=uint8)),\n",
       " StandardTrack(name='TOUCHINT', program=108, is_drum=False, pianoroll=array(shape=(11136, 128), dtype=uint8)),\n",
       " StandardTrack(name='TOUCHINT', program=90, is_drum=False, pianoroll=array(shape=(11136, 128), dtype=uint8)),\n",
       " StandardTrack(name='TOUCHINT', program=39, is_drum=False, pianoroll=array(shape=(11136, 128), dtype=uint8)),\n",
       " StandardTrack(name='TOUCHINT', program=87, is_drum=False, pianoroll=array(shape=(11136, 128), dtype=uint8)),\n",
       " StandardTrack(name='TOUCHINT', program=49, is_drum=False, pianoroll=array(shape=(11136, 128), dtype=uint8)),\n",
       " StandardTrack(name='TOUCHINT', program=22, is_drum=False, pianoroll=array(shape=(11136, 128), dtype=uint8)),\n",
       " StandardTrack(name='TOUCHINT', program=117, is_drum=False, pianoroll=array(shape=(11136, 128), dtype=uint8)),\n",
       " StandardTrack(name='TOUCHINT', program=17, is_drum=False, pianoroll=array(shape=(11136, 128), dtype=uint8)),\n",
       " StandardTrack(name='TOUCHINT', program=63, is_drum=False, pianoroll=array(shape=(11136, 128), dtype=uint8)),\n",
       " StandardTrack(name='TOUCHINT', program=52, is_drum=False, pianoroll=array(shape=(11136, 128), dtype=uint8)),\n",
       " StandardTrack(name='TOUCHINT', program=0, is_drum=False, pianoroll=array(shape=(11136, 128), dtype=uint8)),\n",
       " StandardTrack(name='TOUCHINT', program=62, is_drum=False, pianoroll=array(shape=(11136, 128), dtype=uint8))]"
      ]
     },
     "execution_count": 44,
     "metadata": {},
     "output_type": "execute_result"
    }
   ],
   "source": [
    "# Reading lpd cleansed data\n",
    "pl.load('../dataset/lpd/lpd_cleansed/A/A/A/TRAAAGR128F425B14B/b97c529ab9ef783a849b896816001748.npz').tracks"
   ]
  },
  {
   "cell_type": "code",
   "execution_count": null,
   "id": "1cf033cd",
   "metadata": {},
   "outputs": [],
   "source": [
    "pl.load('../dataset/lpd/lpd_cleansed/A/A/A/TRAAAGR128F425B14B/b97c529ab9ef783a849b896816001748.npz').tracks"
   ]
  },
  {
   "cell_type": "code",
   "execution_count": 14,
   "id": "de4c8823",
   "metadata": {},
   "outputs": [],
   "source": [
    "data = np.load('../dataset/lpd/lpd_cleansed/A/A/A/TRAAAGR128F425B14B/b97c529ab9ef783a849b896816001748.npz')"
   ]
  },
  {
   "cell_type": "code",
   "execution_count": 24,
   "id": "e47f14cb",
   "metadata": {},
   "outputs": [
    {
     "data": {
      "text/plain": [
       "array([768, 128])"
      ]
     },
     "execution_count": 24,
     "metadata": {},
     "output_type": "execute_result"
    }
   ],
   "source": [
    "d = np.load('../dataset/lpd/lpd_full/0/00000ec8a66b6bd2ef809b0443eeae41.npz')\n",
    "d.get('pianoroll_0_csc_shape')"
   ]
  },
  {
   "cell_type": "code",
   "execution_count": 22,
   "id": "acbd9607",
   "metadata": {},
   "outputs": [
    {
     "data": {
      "text/plain": [
       "['pianoroll_0_csc_indptr',\n",
       " 'downbeat',\n",
       " 'tempo',\n",
       " 'pianoroll_0_csc_indices',\n",
       " 'pianoroll_0_csc_shape',\n",
       " 'pianoroll_0_csc_data',\n",
       " 'info.json']"
      ]
     },
     "execution_count": 22,
     "metadata": {},
     "output_type": "execute_result"
    }
   ],
   "source": [
    "d.files"
   ]
  },
  {
   "cell_type": "code",
   "execution_count": 26,
   "id": "414ea596",
   "metadata": {},
   "outputs": [
    {
     "data": {
      "text/plain": [
       "['pianoroll_0_csc_indptr',\n",
       " 'pianoroll_0_csc_indices',\n",
       " 'pianoroll_2_csc_indices',\n",
       " 'pianoroll_2_csc_shape',\n",
       " 'pianoroll_1_csc_indptr',\n",
       " 'pianoroll_3_csc_indptr',\n",
       " 'pianoroll_1_csc_indices',\n",
       " 'pianoroll_3_csc_shape',\n",
       " 'pianoroll_0_csc_data',\n",
       " 'pianoroll_1_csc_data',\n",
       " 'pianoroll_1_csc_shape',\n",
       " 'tempo',\n",
       " 'pianoroll_4_csc_indices',\n",
       " 'pianoroll_3_csc_indices',\n",
       " 'pianoroll_4_csc_shape',\n",
       " 'pianoroll_2_csc_data',\n",
       " 'pianoroll_3_csc_data',\n",
       " 'pianoroll_4_csc_data',\n",
       " 'pianoroll_4_csc_indptr',\n",
       " 'pianoroll_2_csc_indptr',\n",
       " 'downbeat',\n",
       " 'pianoroll_0_csc_shape',\n",
       " 'info.json']"
      ]
     },
     "execution_count": 26,
     "metadata": {},
     "output_type": "execute_result"
    }
   ],
   "source": [
    "lpd_5_cleansed = np.load('../dataset/lpd/lpd_5_cleansed/A/A/A/TRAAAGR128F425B14B/b97c529ab9ef783a849b896816001748.npz')\n",
    "lpd_5_cleansed.files"
   ]
  },
  {
   "cell_type": "code",
   "execution_count": 38,
   "id": "572d006a",
   "metadata": {},
   "outputs": [
    {
     "data": {
      "text/plain": [
       "(11136,)"
      ]
     },
     "execution_count": 38,
     "metadata": {},
     "output_type": "execute_result"
    }
   ],
   "source": [
    "lpd_5_cleansed['tempo'].shape"
   ]
  },
  {
   "cell_type": "code",
   "execution_count": 39,
   "id": "d15e21bb",
   "metadata": {},
   "outputs": [
    {
     "data": {
      "text/plain": [
       "(11136,)"
      ]
     },
     "execution_count": 39,
     "metadata": {},
     "output_type": "execute_result"
    }
   ],
   "source": [
    "lpd_5_cleansed['downbeat'].shape"
   ]
  },
  {
   "cell_type": "code",
   "execution_count": null,
   "id": "e7005361",
   "metadata": {},
   "outputs": [],
   "source": [
    "lpd_5_cleansed['tempo'].shape"
   ]
  },
  {
   "cell_type": "code",
   "execution_count": 29,
   "id": "c7fbc73f",
   "metadata": {},
   "outputs": [
    {
     "data": {
      "text/plain": [
       "array([11136,   128])"
      ]
     },
     "execution_count": 29,
     "metadata": {},
     "output_type": "execute_result"
    }
   ],
   "source": [
    "lpd_5_cleansed['pianoroll_0_csc_shape']"
   ]
  },
  {
   "cell_type": "code",
   "execution_count": 48,
   "id": "8b7d983d",
   "metadata": {},
   "outputs": [],
   "source": [
    "lpd_5_cleansed1 = pl.load('../dataset/lpd/lpd_5_cleansed/A/A/A/TRAAAGR128F425B14B/b97c529ab9ef783a849b896816001748.npz')"
   ]
  },
  {
   "cell_type": "code",
   "execution_count": 46,
   "id": "9abde595",
   "metadata": {},
   "outputs": [
    {
     "data": {
      "text/plain": [
       "[StandardTrack(name='Drums', program=0, is_drum=True, pianoroll=array(shape=(7896, 128), dtype=uint8)),\n",
       " BinaryTrack(name='Piano', program=0, is_drum=False, pianoroll=array(shape=(0, 128), dtype=bool)),\n",
       " StandardTrack(name='Guitar', program=24, is_drum=False, pianoroll=array(shape=(7896, 128), dtype=uint8)),\n",
       " StandardTrack(name='Bass', program=32, is_drum=False, pianoroll=array(shape=(7896, 128), dtype=uint8)),\n",
       " StandardTrack(name='Strings', program=48, is_drum=False, pianoroll=array(shape=(7896, 128), dtype=uint8))]"
      ]
     },
     "execution_count": 46,
     "metadata": {},
     "output_type": "execute_result"
    }
   ],
   "source": [
    "pl.load('../dataset/lpd/lpd_5_cleansed/A/A/A/TRAAAZF12903CCCF6B/05f21994c71a5f881e64f45c8d706165.npz').tracks"
   ]
  },
  {
   "cell_type": "code",
   "execution_count": 47,
   "id": "14b35adb",
   "metadata": {},
   "outputs": [
    {
     "data": {
      "text/plain": [
       "[StandardTrack(name='Drums', program=0, is_drum=True, pianoroll=array(shape=(9864, 128), dtype=uint8)),\n",
       " StandardTrack(name='Piano', program=0, is_drum=False, pianoroll=array(shape=(9864, 128), dtype=uint8)),\n",
       " StandardTrack(name='Guitar', program=24, is_drum=False, pianoroll=array(shape=(9864, 128), dtype=uint8)),\n",
       " StandardTrack(name='Bass', program=32, is_drum=False, pianoroll=array(shape=(9864, 128), dtype=uint8)),\n",
       " StandardTrack(name='Strings', program=48, is_drum=False, pianoroll=array(shape=(9864, 128), dtype=uint8))]"
      ]
     },
     "execution_count": 47,
     "metadata": {},
     "output_type": "execute_result"
    }
   ],
   "source": [
    "pl.load('../dataset/lpd/lpd_5_cleansed/A/B/A/TRABAFJ128F42AF24E/9f23c96d46ded0be0705e17c8b52f52b.npz').tracks"
   ]
  },
  {
   "cell_type": "code",
   "execution_count": 56,
   "id": "958a88bb",
   "metadata": {},
   "outputs": [
    {
     "data": {
      "text/plain": [
       "Multitrack(name='b97c529ab9ef783a849b896816001748', resolution=24, tempo=array(shape=(11136,), dtype=float64), downbeat=array(shape=(11136,), dtype=bool), tracks=[StandardTrack(name='Drums', program=0, is_drum=True, pianoroll=array(shape=(11136, 128), dtype=uint8)), StandardTrack(name='Piano', program=0, is_drum=False, pianoroll=array(shape=(11136, 128), dtype=uint8)), StandardTrack(name='Guitar', program=24, is_drum=False, pianoroll=array(shape=(11136, 128), dtype=uint8)), StandardTrack(name='Bass', program=32, is_drum=False, pianoroll=array(shape=(11136, 128), dtype=uint8)), StandardTrack(name='Strings', program=48, is_drum=False, pianoroll=array(shape=(11136, 128), dtype=uint8))])"
      ]
     },
     "execution_count": 56,
     "metadata": {},
     "output_type": "execute_result"
    }
   ],
   "source": [
    "lpd_5_cleansed1"
   ]
  },
  {
   "cell_type": "code",
   "execution_count": 55,
   "id": "afe7dcb9",
   "metadata": {},
   "outputs": [
    {
     "data": {
      "text/plain": [
       "(11136, 128)"
      ]
     },
     "execution_count": 55,
     "metadata": {},
     "output_type": "execute_result"
    }
   ],
   "source": [
    "lpd_5_cleansed1.tracks[0].pianoroll.shape"
   ]
  },
  {
   "cell_type": "code",
   "execution_count": 57,
   "id": "3db58083",
   "metadata": {},
   "outputs": [
    {
     "data": {
      "text/plain": [
       "[StandardTrack(name='Drums', program=0, is_drum=True, pianoroll=array(shape=(9216, 128), dtype=uint8)),\n",
       " BinaryTrack(name='Piano', program=0, is_drum=False, pianoroll=array(shape=(0, 128), dtype=bool)),\n",
       " StandardTrack(name='Guitar', program=24, is_drum=False, pianoroll=array(shape=(9216, 128), dtype=uint8)),\n",
       " StandardTrack(name='Bass', program=32, is_drum=False, pianoroll=array(shape=(9216, 128), dtype=uint8)),\n",
       " StandardTrack(name='Strings', program=48, is_drum=False, pianoroll=array(shape=(9216, 128), dtype=uint8))]"
      ]
     },
     "execution_count": 57,
     "metadata": {},
     "output_type": "execute_result"
    }
   ],
   "source": [
    "pl.load('../dataset/lpd/lpd_5_cleansed/Z/A/A/TRZAABG12903CBB997/6888451ff74549fb3e53ef07697d0055.npz').tracks"
   ]
  },
  {
   "cell_type": "code",
   "execution_count": 61,
   "id": "9847cbf3",
   "metadata": {},
   "outputs": [
    {
     "data": {
      "text/plain": [
       "Multitrack(name='b97c529ab9ef783a849b896816001748', resolution=24, tempo=array(shape=(11136,), dtype=float64), downbeat=array(shape=(11136,), dtype=bool), tracks=[StandardTrack(name='Drums', program=0, is_drum=True, pianoroll=array(shape=(11136, 128), dtype=uint8)), StandardTrack(name='Piano', program=0, is_drum=False, pianoroll=array(shape=(11136, 128), dtype=uint8)), StandardTrack(name='Guitar', program=24, is_drum=False, pianoroll=array(shape=(11136, 128), dtype=uint8)), StandardTrack(name='Bass', program=32, is_drum=False, pianoroll=array(shape=(11136, 128), dtype=uint8)), StandardTrack(name='Strings', program=48, is_drum=False, pianoroll=array(shape=(11136, 128), dtype=uint8))])"
      ]
     },
     "execution_count": 61,
     "metadata": {},
     "output_type": "execute_result"
    }
   ],
   "source": [
    "lpd_5_cleansed1"
   ]
  },
  {
   "cell_type": "code",
   "execution_count": 72,
   "id": "938c8500",
   "metadata": {},
   "outputs": [
    {
     "data": {
      "text/plain": [
       "Multitrack(name='b97c529ab9ef783a849b896816001748', resolution=24, tempo=array(shape=(1152,), dtype=float64), downbeat=array(shape=(1152,), dtype=bool), tracks=[StandardTrack(name='Drums', program=0, is_drum=True, pianoroll=array(shape=(1152, 128), dtype=uint8)), StandardTrack(name='Piano', program=0, is_drum=False, pianoroll=array(shape=(1152, 128), dtype=uint8)), StandardTrack(name='Guitar', program=24, is_drum=False, pianoroll=array(shape=(1152, 128), dtype=uint8)), StandardTrack(name='Bass', program=32, is_drum=False, pianoroll=array(shape=(1152, 128), dtype=uint8)), StandardTrack(name='Strings', program=48, is_drum=False, pianoroll=array(shape=(1152, 128), dtype=uint8))])"
      ]
     },
     "execution_count": 72,
     "metadata": {},
     "output_type": "execute_result"
    }
   ],
   "source": [
    "lpd_5_cleansed1.trim(end=12*96)"
   ]
  },
  {
   "cell_type": "code",
   "execution_count": 77,
   "id": "fe604b8a",
   "metadata": {},
   "outputs": [
    {
     "data": {
      "image/png": "[encoded data removed]",
      "text/plain": [
       "<Figure size 1152x576 with 5 Axes>"
      ]
     },
     "metadata": {
      "needs_background": "light"
     },
     "output_type": "display_data"
    }
   ],
   "source": [
    "axs = lpd_5_cleansed1.plot()\n",
    "plt.gcf().set_size_inches((16,8))\n",
    "for ax in axs:\n",
    "    for x in range(96,12*96,96):\n",
    "        ax.axvline(x-0.5,color='k',linestyle='-',linewidth=1)\n",
    "plt.show()"
   ]
  },
  {
   "cell_type": "markdown",
   "id": "82dd8b10",
   "metadata": {},
   "source": [
    "## Understanding the data"
   ]
  },
  {
   "cell_type": "code",
   "execution_count": 3,
   "id": "67a8197b",
   "metadata": {},
   "outputs": [
    {
     "name": "stdout",
     "output_type": "stream",
     "text": [
      "Total Tracks :  7323\n"
     ]
    }
   ],
   "source": [
    "dataset_root = Path(\"../dataset/lpd/lpd_5_cleansed/\")\n",
    "id_list = []\n",
    "for path in os.listdir('../dataset/lpd/amg'):\n",
    "    filepath = os.path.join(\"../dataset/lpd/amg\",path)\n",
    "    if os.path.isfile(filepath):\n",
    "        with open(filepath,'r') as f:\n",
    "            id_list.extend([line.strip() for line in f])\n",
    "id_list = list(set(id_list))\n",
    "print(\"Total Tracks : \",len(id_list))"
   ]
  },
  {
   "cell_type": "code",
   "execution_count": null,
   "id": "720c584b",
   "metadata": {},
   "outputs": [],
   "source": [
    "def msd_id_to_dirs(msd_id)\n",
    "    \"\"\"Given an MSD ID, generate the path prefix.\n",
    "    E.g. \"\"\"\n",
    "    \n",
    "    return os.path.join(msd_id[2])"
   ]
  }
 ],
 "metadata": {
  "kernelspec": {
   "display_name": "Python 3 (ipykernel)",
   "language": "python",
   "name": "python3"
  },
  "language_info": {
   "codemirror_mode": {
    "name": "ipython",
    "version": 3
   },
   "file_extension": ".py",
   "mimetype": "text/x-python",
   "name": "python",
   "nbconvert_exporter": "python",
   "pygments_lexer": "ipython3",
   "version": "3.8.12"
  }
 },
 "nbformat": 4,
 "nbformat_minor": 5
}
